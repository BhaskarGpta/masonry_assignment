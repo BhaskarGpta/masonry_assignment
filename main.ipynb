{
 "cells": [
  {
   "cell_type": "code",
   "execution_count": 3,
   "id": "ccb3f2e2-428d-4ed6-9d4a-f48f896baf5c",
   "metadata": {},
   "outputs": [],
   "source": [
    "from core import LLMInitializer\n",
    "from services.query_breakdown import QueryProcessor\n",
    "from services.link_retrieval import LinkRetriever \n",
    "from services.scraping import WebScraper \n",
    "from services.conversation_agent import Chatbot"
   ]
  },
  {
   "cell_type": "code",
   "execution_count": 4,
   "id": "51380854-f029-437b-b502-a8b5501c2023",
   "metadata": {},
   "outputs": [],
   "source": [
    "query = \"How did Inida respond to the recent Kashmir, Pahalgam incident?\"\n",
    "\n",
    "#QueryAnalyzer = QueryProcessor(query) #Initialize our Query Analyzer Agent\n",
    "#QueryAnalyzer.break_query()"
   ]
  },
  {
   "cell_type": "code",
   "execution_count": null,
   "id": "5edc5890-2d09-4b76-9f2b-6108108b460d",
   "metadata": {},
   "outputs": [],
   "source": [
    "QueryQill = LinkRetriever() #Initialize our smart Link Retriever and Ranking Agent\n",
    "QueryQill.rank()"
   ]
  },
  {
   "cell_type": "code",
   "execution_count": 3,
   "id": "6434ad24-ca90-4aaa-aa31-d3a86cc4df50",
   "metadata": {},
   "outputs": [
    {
     "name": "stdout",
     "output_type": "stream",
     "text": [
      "\n",
      "🔗 Scraping: https://www.bbc.com/news/articles/cwynx7kgyqvo\n",
      "✅ Successfully scraped https://www.bbc.com/news/articles/cwynx7kgyqvo\n",
      "\n",
      "🔗 Scraping: https://www.aljazeera.com/news/2025/4/24/india-and-pakistan-head-towards-a-strategic-standoff-after-pahalgam-attack\n",
      "❌ General error occurred while scraping https://www.aljazeera.com/news/2025/4/24/india-and-pakistan-head-towards-a-strategic-standoff-after-pahalgam-attack: HTTPConnectionPool(host='localhost', port=57897): Read timed out. (read timeout=120)\n",
      "\n",
      "🔗 Scraping: https://www.bbc.com/news/articles/ce8g2njm2d2o\n",
      "✅ Successfully scraped https://www.bbc.com/news/articles/ce8g2njm2d2o\n",
      "\n",
      "🔗 Scraping: https://www.aljazeera.com/news/liveblog/2025/4/23/kashmir-attack-live-india-looks-for-gunmen-after-26-killed-in-pahalgam\n",
      "❌ General error occurred while scraping https://www.aljazeera.com/news/liveblog/2025/4/23/kashmir-attack-live-india-looks-for-gunmen-after-26-killed-in-pahalgam: HTTPConnectionPool(host='localhost', port=45061): Read timed out. (read timeout=120)\n",
      "\n",
      "🔗 Scraping: https://www.cnn.com/2025/04/24/india/pahalgam-india-pakistan-attack-explainer-intl-hnk/index.html\n",
      "✅ Successfully scraped https://www.cnn.com/2025/04/24/india/pahalgam-india-pakistan-attack-explainer-intl-hnk/index.html\n",
      "\n",
      "🔗 Scraping: https://www.reuters.com/world/india/attack-tourists-indian-kashmir-kills-26-people-injures-17-police-say-2025-04-23/\n",
      "✅ Successfully scraped https://www.reuters.com/world/india/attack-tourists-indian-kashmir-kills-26-people-injures-17-police-say-2025-04-23/\n",
      "\n",
      "🔗 Scraping: https://www.nytimes.com/2025/04/23/world/asia/kashmir-attack-india-pakistan.html\n",
      "✅ Successfully scraped https://www.nytimes.com/2025/04/23/world/asia/kashmir-attack-india-pakistan.html\n",
      "\n",
      "🔗 Scraping: https://www.npr.org/2025/04/25/g-s1-62677/india-pakistan-kashmir-line-of-control-firing\n",
      "✅ Successfully scraped https://www.npr.org/2025/04/25/g-s1-62677/india-pakistan-kashmir-line-of-control-firing\n",
      "\n",
      "🔗 Scraping: https://www.reuters.com/world/asia-pacific/what-steps-have-india-pakistan-taken-against-each-other-after-kashmir-attack-2025-04-24/\n",
      "✅ Successfully scraped https://www.reuters.com/world/asia-pacific/what-steps-have-india-pakistan-taken-against-each-other-after-kashmir-attack-2025-04-24/\n",
      "\n",
      "🔗 Scraping: https://apnews.com/article/kashmir-tourist-attack-india-pakistan-801a1ee244cc88846619370237876c11\n",
      "❌ General error occurred while scraping https://apnews.com/article/kashmir-tourist-attack-india-pakistan-801a1ee244cc88846619370237876c11: HTTPConnectionPool(host='localhost', port=45225): Read timed out. (read timeout=120)\n"
     ]
    }
   ],
   "source": [
    "Scraper = WebScraper(\"data/links/scored_links.json\")\n",
    "Scraper.start_scraping()"
   ]
  },
  {
   "cell_type": "code",
   "execution_count": 5,
   "id": "d32e5498-153a-44a6-a93d-8cceefd81e92",
   "metadata": {},
   "outputs": [
    {
     "name": "stderr",
     "output_type": "stream",
     "text": [
      "/home/bhaskar/mansory/masonry/services/conversation_agent/conversation_agent.py:99: LangChainDeprecationWarning: Please see the migration guide at: https://python.langchain.com/docs/versions/migrating_memory/\n",
      "  self.memory = ConversationBufferMemory(return_messages=True, memory_key=\"chat_history\", input_key=\"input\")\n"
     ]
    },
    {
     "name": "stdout",
     "output_type": "stream",
     "text": [
      "❌ Error: \"Input to ChatPromptTemplate is missing variables {'chat_history'}.  Expected: ['chat_history', 'context', 'input'] Received: ['input', 'context']\\nNote: if you intended {chat_history} to be part of the string and not a variable, please escape it with double curly braces like: '{{chat_history}}'.\\nFor troubleshooting, visit: https://python.langchain.com/docs/troubleshooting/errors/INVALID_PROMPT_INPUT \"\n",
      "🧠 Chatbot is ready! Type 'bye' to exit.\n",
      "\n",
      "[]\n"
     ]
    },
    {
     "name": "stdin",
     "output_type": "stream",
     "text": [
      "You:  how did india respond?\n"
     ]
    },
    {
     "name": "stdout",
     "output_type": "stream",
     "text": [
      "Bot: Based on the provided context, India has taken several retaliatory steps in response to the attack:\n",
      "\n",
      "1.  Closing the main border crossing.\n",
      "2.  Suspending a critical water-sharing treaty (specifically mentioned as the Indus Water Treaty).\n",
      "3.  Expelling diplomats.\n",
      "\n",
      "Additionally, Defence Minister Rajnath Singh has vowed a \"strong response,\" pledging action not just against the perpetrators but also the masterminds behind the acts.\n",
      "\n",
      "[]\n"
     ]
    },
    {
     "name": "stdin",
     "output_type": "stream",
     "text": [
      "You:  there was a recent case of floodin in pakistan, sources say that India did it. Is that true and if yes, how?\n"
     ]
    },
    {
     "name": "stdout",
     "output_type": "stream",
     "text": [
      "Bot: Based on the provided context, there is no mention of a recent flooding event in Pakistan or any claim that India caused such flooding.\n",
      "\n",
      "The context primarily discusses:\n",
      "1.  India's threat or action to suspend or freeze the Indus Waters Treaty, which would involve stopping or reducing the flow of river water *into* Pakistan, often in response to attacks or perceived support for militants.\n",
      "2.  Pakistan's reaction to India's suspension of the treaty, deeming it an \"act of war.\"\n",
      "3.  Various cross-border incidents, attacks, and accusations between India and Pakistan related to Kashmir and terrorism.\n",
      "\n",
      "Therefore, the provided text does not support the claim that India caused flooding in Pakistan. It focuses on the potential action of India *stopping* water flow *into* Pakistan.\n",
      "\n",
      "[]\n"
     ]
    },
    {
     "name": "stdin",
     "output_type": "stream",
     "text": [
      "You:  but didn't india increase indus water level by pouring water into it which led to a flood in pakistan?\n"
     ]
    },
    {
     "name": "stdout",
     "output_type": "stream",
     "text": [
      "Bot: Based on the provided context, there is no information about India increasing the Indus water level or causing a flood in Pakistan by pouring water into the river.\n",
      "\n",
      "The context discusses the Indus Waters Treaty primarily in the context of India suspending or threatening to suspend it following attacks, and mentions that the treaty requires India to allow water from the western rivers to flow downstream into Pakistan. It focuses on political tensions, military actions, and the Kashmir conflict between the two countries.\n",
      "\n",
      "[]\n"
     ]
    },
    {
     "name": "stdin",
     "output_type": "stream",
     "text": [
      "You:  ok tell me about the flow of indus. where does it originate, how much of it flows in india and how much of it fows in pakistan\n"
     ]
    },
    {
     "name": "stdout",
     "output_type": "stream",
     "text": [
      "Bot: Based on the provided context, I can tell you that the Indus River and its tributaries are governed by the Indus Waters Treaty between India and Pakistan. The treaty gives India control over the eastern rivers and Pakistan control over the western rivers. The agreement requires India to allow water from the western rivers to flow downstream into Pakistan, with few exceptions.\n",
      "\n",
      "However, the provided text does not contain information about where the Indus River originates or the specific amounts or percentages of its water flow within India and Pakistan.\n",
      "\n",
      "[]\n"
     ]
    },
    {
     "name": "stdin",
     "output_type": "stream",
     "text": [
      "You:  where does it originate?\n"
     ]
    },
    {
     "name": "stdout",
     "output_type": "stream",
     "text": [
      "Bot: Based on the context provided, the conflict between India and Pakistan over Kashmir originated from the 1947 Partition of British India.\n",
      "\n",
      "[]\n"
     ]
    },
    {
     "name": "stdin",
     "output_type": "stream",
     "text": [
      "You:  no from where does indus river originate?\n"
     ]
    },
    {
     "name": "stdout",
     "output_type": "stream",
     "text": [
      "Bot: Based on the provided context, there is information about the Indus River and the Indus Water Treaty between India and Pakistan, but the text does not mention where the Indus River originates.\n",
      "\n",
      "[]\n"
     ]
    },
    {
     "name": "stdin",
     "output_type": "stream",
     "text": [
      "You:  bye\n"
     ]
    },
    {
     "name": "stdout",
     "output_type": "stream",
     "text": [
      "Bot: Goodbye! 👋\n"
     ]
    }
   ],
   "source": [
    "BT_7274 = Chatbot(query)\n",
    "BT_7274.start_chat()"
   ]
  }
 ],
 "metadata": {
  "kernelspec": {
   "display_name": "Python 3 (ipykernel)",
   "language": "python",
   "name": "python3"
  },
  "language_info": {
   "codemirror_mode": {
    "name": "ipython",
    "version": 3
   },
   "file_extension": ".py",
   "mimetype": "text/x-python",
   "name": "python",
   "nbconvert_exporter": "python",
   "pygments_lexer": "ipython3",
   "version": "3.12.3"
  }
 },
 "nbformat": 4,
 "nbformat_minor": 5
}
